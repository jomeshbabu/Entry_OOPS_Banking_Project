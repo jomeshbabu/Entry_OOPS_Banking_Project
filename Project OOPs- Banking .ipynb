{
 "cells": [
  {
   "cell_type": "code",
   "execution_count": 1,
   "id": "b9f72f69-9312-40db-b034-efc49307e552",
   "metadata": {},
   "outputs": [
    {
     "name": "stdout",
     "output_type": "stream",
     "text": [
      "Welcome to State Bank of India\n"
     ]
    },
    {
     "name": "stdin",
     "output_type": "stream",
     "text": [
      "Enter your username:  Judit Thomas\n",
      "Enter your password:  123456\n"
     ]
    },
    {
     "name": "stdout",
     "output_type": "stream",
     "text": [
      "Login successful! Welcome, Judit Thomas.\n",
      "\n",
      "Select an option:\n",
      "1. Deposit Money\n",
      "2. Withdraw Money\n",
      "3. Display Balance\n",
      "4. Exit\n"
     ]
    },
    {
     "name": "stdin",
     "output_type": "stream",
     "text": [
      "Enter your choice (1/2/3/4):  1\n",
      "Enter amount to be deposited:  500000\n"
     ]
    },
    {
     "name": "stdout",
     "output_type": "stream",
     "text": [
      "Amount deposited: Rs 500000.0\n",
      "\n",
      "Select an option:\n",
      "1. Deposit Money\n",
      "2. Withdraw Money\n",
      "3. Display Balance\n",
      "4. Exit\n"
     ]
    },
    {
     "name": "stdin",
     "output_type": "stream",
     "text": [
      "Enter your choice (1/2/3/4):  2\n",
      "Enter amount to be withdrawn:  25000\n"
     ]
    },
    {
     "name": "stdout",
     "output_type": "stream",
     "text": [
      "Amount withdrawn: Rs 25000.0\n",
      "\n",
      "Select an option:\n",
      "1. Deposit Money\n",
      "2. Withdraw Money\n",
      "3. Display Balance\n",
      "4. Exit\n"
     ]
    },
    {
     "name": "stdin",
     "output_type": "stream",
     "text": [
      "Enter your choice (1/2/3/4):  3\n"
     ]
    },
    {
     "name": "stdout",
     "output_type": "stream",
     "text": [
      "Net balance is: Rs 475000.0\n",
      "\n",
      "Select an option:\n",
      "1. Deposit Money\n",
      "2. Withdraw Money\n",
      "3. Display Balance\n",
      "4. Exit\n"
     ]
    },
    {
     "name": "stdin",
     "output_type": "stream",
     "text": [
      "Enter your choice (1/2/3/4):  4\n"
     ]
    },
    {
     "name": "stdout",
     "output_type": "stream",
     "text": [
      "Thank you for using the State Bank of India.\n"
     ]
    }
   ],
   "source": [
    "class Account:\n",
    "    balance = 0.0  \n",
    "\n",
    "    def display_balance(self):\n",
    "        print(f\"Net balance is: Rs {self.balance}\")\n",
    "\n",
    "    def deposit(self):\n",
    "        amount = float(input(\"Enter amount to be deposited: \"))\n",
    "        self.balance += amount\n",
    "        print(f\"Amount deposited: Rs {amount}\")\n",
    "\n",
    "    def withdraw(self):\n",
    "        amount = float(input(\"Enter amount to be withdrawn: \"))\n",
    "        if self.balance >= amount:\n",
    "            self.balance -= amount\n",
    "            print(f\"Amount withdrawn: Rs {amount}\")\n",
    "        else:\n",
    "            print(\"Insufficient balance for withdrawal.\")\n",
    "\n",
    "def login():\n",
    "    username = input(\"Enter your username: \")\n",
    "    password = input(\"Enter your password: \")\n",
    "    print(f\"Login successful! Welcome, {username}.\")\n",
    "\n",
    "# Main program\n",
    "def main():\n",
    "    print(\"Welcome to State Bank of India\")\n",
    "    login() \n",
    "    bank_account = Account()  \n",
    "\n",
    "    while True:\n",
    "        print(\"\\nSelect an option:\")\n",
    "        print(\"1. Deposit Money\")\n",
    "        print(\"2. Withdraw Money\")\n",
    "        print(\"3. Display Balance\")\n",
    "        print(\"4. Exit\")\n",
    "\n",
    "        choice = input(\"Enter your choice (1/2/3/4): \")\n",
    "\n",
    "        if choice == '1':\n",
    "            bank_account.deposit()\n",
    "        elif choice == '2':\n",
    "            bank_account.withdraw()\n",
    "        elif choice == '3':\n",
    "            bank_account.display_balance()\n",
    "        elif choice == '4':\n",
    "            print(\"Thank you for using the State Bank of India.\")\n",
    "            break\n",
    "        else:\n",
    "            print(\"Invalid choice. Please try again.\")\n",
    "\n",
    "\n",
    "main()  # Call the main function"
   ]
  },
  {
   "cell_type": "code",
   "execution_count": null,
   "id": "96ffb3fb-2d80-459d-a2fc-4968b9f1e3df",
   "metadata": {},
   "outputs": [],
   "source": []
  }
 ],
 "metadata": {
  "kernelspec": {
   "display_name": "Python 3 (ipykernel)",
   "language": "python",
   "name": "python3"
  },
  "language_info": {
   "codemirror_mode": {
    "name": "ipython",
    "version": 3
   },
   "file_extension": ".py",
   "mimetype": "text/x-python",
   "name": "python",
   "nbconvert_exporter": "python",
   "pygments_lexer": "ipython3",
   "version": "3.12.4"
  }
 },
 "nbformat": 4,
 "nbformat_minor": 5
}
